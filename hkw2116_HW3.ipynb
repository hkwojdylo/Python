{
 "cells": [
  {
   "cell_type": "markdown",
   "metadata": {},
   "source": [
    "# Introduction to Python\n",
    "# Homework #3\n",
    "- You MUST submit on Courseworks before it closes\n",
    "- Email submissions are NOT accepted"
   ]
  },
  {
   "cell_type": "markdown",
   "metadata": {},
   "source": [
    "# Academic Honesty\n",
    "* The computer science department has strict polices. Check\n",
    "the department [web page](http://www.cs.columbia.edu/education/honesty) for details. \n",
    "- Do not look at anybody else's source code. Do not show anybody\n",
    "your source, or leave your source where somebody could see it.\n",
    "You MUST write your own code.\n",
    "- For this class, feel free to discuss issues with other people, but suggest waiting an hour or two after a discussion, before writing your code.\n",
    "-  Cases of non original source will be refered to the Judical Committee.\n",
    "\n"
   ]
  },
  {
   "cell_type": "markdown",
   "metadata": {},
   "source": [
    "# tips\n",
    "- 'self' must be the first arg to every method\n",
    "- use the 'self.' prefix to refer to instance variables or other methods inside a method "
   ]
  },
  {
   "cell_type": "code",
   "execution_count": 1,
   "metadata": {},
   "outputs": [
    {
     "data": {
      "text/plain": [
       "(False, True, {1: 2, 3: 4})"
      ]
     },
     "execution_count": 1,
     "metadata": {},
     "output_type": "execute_result"
    }
   ],
   "source": [
    "# copy a dictionary\n",
    "\n",
    "d = {1:2, 3:4}\n",
    "dd = d.copy()\n",
    "\n",
    "d is dd, d == dd, dd"
   ]
  },
  {
   "cell_type": "code",
   "execution_count": 2,
   "metadata": {},
   "outputs": [
    {
     "ename": "ValueError",
     "evalue": "messages",
     "output_type": "error",
     "traceback": [
      "\u001b[1;31m---------------------------------------------------------------------------\u001b[0m",
      "\u001b[1;31mValueError\u001b[0m                                Traceback (most recent call last)",
      "\u001b[1;32m<ipython-input-2-6fb512a87973>\u001b[0m in \u001b[0;36m<module>\u001b[1;34m\u001b[0m\n\u001b[0;32m      1\u001b[0m \u001b[1;31m# raise ValueError\u001b[0m\u001b[1;33m\u001b[0m\u001b[1;33m\u001b[0m\u001b[1;33m\u001b[0m\u001b[0m\n\u001b[1;32m----> 2\u001b[1;33m \u001b[1;32mraise\u001b[0m \u001b[0mValueError\u001b[0m\u001b[1;33m(\u001b[0m\u001b[1;34m'messages'\u001b[0m\u001b[1;33m)\u001b[0m\u001b[1;33m\u001b[0m\u001b[1;33m\u001b[0m\u001b[0m\n\u001b[0m",
      "\u001b[1;31mValueError\u001b[0m: messages"
     ]
    }
   ],
   "source": [
    "# raise ValueError\n",
    "raise ValueError('messages')"
   ]
  },
  {
   "cell_type": "markdown",
   "metadata": {},
   "source": [
    "# Problem 1 & 2 - Constraints\n",
    "- suppose we want to convert between C(Celsius) and F(Fahrenheit), using the equation 9*C = 5*(F-32)\n",
    "- could write functions 'c2f' and 'f2c'"
   ]
  },
  {
   "cell_type": "code",
   "execution_count": 3,
   "metadata": {},
   "outputs": [],
   "source": [
    "def c2f(c):\n",
    "    return( (9.*c + 5. * 32.)/5. )\n",
    "\n",
    "def f2c(f):\n",
    "    return( 5.*(f  - 32)/9. )"
   ]
  },
  {
   "cell_type": "code",
   "execution_count": 4,
   "metadata": {},
   "outputs": [
    {
     "data": {
      "text/plain": [
       "[32.0, 212.0, 0.0, 100.0]"
      ]
     },
     "execution_count": 4,
     "metadata": {},
     "output_type": "execute_result"
    }
   ],
   "source": [
    "[c2f(0), c2f(100), f2c(32), f2c(212)]"
   ]
  },
  {
   "cell_type": "markdown",
   "metadata": {},
   "source": [
    "- to write f2c, we solved the equation for C, and made a function out of the other side of the equation\n",
    "- to write c2f, we solved for F, ...\n",
    "- there is another way to think about this \n",
    "- rearrange the equation into a symmetric form\n",
    "\n",
    "```\n",
    "9*C - 5*F = -32*5\n",
    "```\n",
    "\n",
    "- you can think of the equation above as a \"constraint\" between F and C. if you specify one variable, \n",
    "the other's value is determined by the equation. in general, if we have\n",
    "\n",
    "```\n",
    "c0*x0 + c1*x1 + ... cN*xN = total\n",
    "```\n",
    "\n",
    "- cI are fixed coefficients\n",
    "- specifying any N of the (N+1) x's will determine the remaining x variable\n",
    "- ```__init__ and __repr__``` methods are done for you"
   ]
  },
  {
   "cell_type": "markdown",
   "metadata": {},
   "source": [
    "# define the 'setvar' method on the 'Constraint' class\n",
    "- 1st arg is self\n",
    "- 2nd arg is a variable name\n",
    "    - raise a 'ValueError' if given a bad variable name\n",
    "- 3rd arg is the new value for the variable\n",
    "- if only one undefined variable is left, 'fire the constraint'\n",
    "    - solve for the remaining value\n",
    "    - print which variable you are solving for\n",
    "    - print all the variables and values\n",
    "    - now the constraint is 'spent' and should be discarded\n",
    "- otherwise just record the new variable value\n",
    "- do all internal computation in floating point\n",
    "- consider using helper class 'Var'"
   ]
  },
  {
   "cell_type": "code",
   "execution_count": 5,
   "metadata": {},
   "outputs": [],
   "source": [
    "class Var:\n",
    "    \"Holds info about each constraint var\"\n",
    "    def __init__(self, name, coe):\n",
    "        self.name = name\n",
    "        self.coe = float(coe)\n",
    "        self.value = None\n",
    "    \n",
    "    def __repr__(self):\n",
    "        return f'{self.coe}*{self.name}(={self.value})'\n",
    "    \n",
    "    def dot(self):\n",
    "        return self.value * self.coe if self.value else 0.0\n",
    "\n",
    "class Constraint:\n",
    "    def __init__(self, vcdict, total):\n",
    "        # dict comprehension\n",
    "        self.vars = {name: Var(name, coe) for name, coe in vcdict.items()}\n",
    "        self.total = float(total)\n",
    "    \n",
    "    def __repr__(self):\n",
    "        # display the status of the constraint\n",
    "        # show which vars have values\n",
    "        x = ' + '.join([f'{repr(v)}' for k,v in self.vars.items()])\n",
    "        return f'Constraint({self.total}={x})'\n",
    "    \n",
    "    def setvar(self, var, amount):\n",
    "        if var in self.vars:\n",
    "            self.vars[var].value = float(amount)\n",
    "        else:\n",
    "            #given in homework testing below\n",
    "            s = f'varname {var} is not defined in: {\",\".join(self.vars.keys())}'\n",
    "            raise ValueError(s)\n",
    "            \n",
    "        if (sum(1 for a in self.vars if self.vars[a].value == None) == 1):\n",
    "            left = self.total\n",
    "            c = 1;\n",
    "            for x in self.vars:\n",
    "                left -= self.vars[x].dot()\n",
    "                \n",
    "            for y in self.vars:\n",
    "                if self.vars[y].value == None:\n",
    "                    c = float(self.vars[y].coe)\n",
    "                    self.vars[y].value = left/c\n",
    "                    print ('Calculating ' + y)\n",
    "            \n",
    "            for key,val in self.vars.items():\n",
    "                print (key + ' = ' + str(val.value))\n",
    "\n",
    "    # add your setvar method here"
   ]
  },
  {
   "cell_type": "markdown",
   "metadata": {},
   "source": [
    "# Example - setup C & F constraint\n",
    "\n",
    "- given equation 9*C - 5*F = -32*5, we can setup a constraint like this:\n",
    "- string computed by repr method shows C & F initially have no values(=None)"
   ]
  },
  {
   "cell_type": "code",
   "execution_count": 6,
   "metadata": {},
   "outputs": [
    {
     "data": {
      "text/plain": [
       "Constraint(-160.0=9.0*C(=None) + -5.0*F(=None))"
      ]
     },
     "execution_count": 6,
     "metadata": {},
     "output_type": "execute_result"
    }
   ],
   "source": [
    "c = Constraint({'C':9, 'F':-5}, -5*32)\n",
    "c"
   ]
  },
  {
   "cell_type": "code",
   "execution_count": 7,
   "metadata": {},
   "outputs": [
    {
     "ename": "ValueError",
     "evalue": "varname foo is not defined in: C,F",
     "output_type": "error",
     "traceback": [
      "\u001b[1;31m---------------------------------------------------------------------------\u001b[0m",
      "\u001b[1;31mValueError\u001b[0m                                Traceback (most recent call last)",
      "\u001b[1;32m<ipython-input-7-25d70845560d>\u001b[0m in \u001b[0;36m<module>\u001b[1;34m\u001b[0m\n\u001b[0;32m      1\u001b[0m \u001b[1;31m# bad variable name - raise an error\u001b[0m\u001b[1;33m\u001b[0m\u001b[1;33m\u001b[0m\u001b[1;33m\u001b[0m\u001b[0m\n\u001b[0;32m      2\u001b[0m \u001b[1;33m\u001b[0m\u001b[0m\n\u001b[1;32m----> 3\u001b[1;33m \u001b[0mc\u001b[0m\u001b[1;33m.\u001b[0m\u001b[0msetvar\u001b[0m\u001b[1;33m(\u001b[0m\u001b[1;34m'foo'\u001b[0m\u001b[1;33m,\u001b[0m \u001b[1;36m0\u001b[0m\u001b[1;33m)\u001b[0m\u001b[1;33m\u001b[0m\u001b[1;33m\u001b[0m\u001b[0m\n\u001b[0m\u001b[0;32m      4\u001b[0m \u001b[0mc\u001b[0m\u001b[1;33m\u001b[0m\u001b[1;33m\u001b[0m\u001b[0m\n",
      "\u001b[1;32m<ipython-input-5-689bcedce9e1>\u001b[0m in \u001b[0;36msetvar\u001b[1;34m(self, var, amount)\u001b[0m\n\u001b[0;32m     30\u001b[0m             \u001b[1;31m#given in homework testing below\u001b[0m\u001b[1;33m\u001b[0m\u001b[1;33m\u001b[0m\u001b[1;33m\u001b[0m\u001b[0m\n\u001b[0;32m     31\u001b[0m             \u001b[0ms\u001b[0m \u001b[1;33m=\u001b[0m \u001b[1;34mf'varname {var} is not defined in: {\",\".join(self.vars.keys())}'\u001b[0m\u001b[1;33m\u001b[0m\u001b[1;33m\u001b[0m\u001b[0m\n\u001b[1;32m---> 32\u001b[1;33m             \u001b[1;32mraise\u001b[0m \u001b[0mValueError\u001b[0m\u001b[1;33m(\u001b[0m\u001b[0ms\u001b[0m\u001b[1;33m)\u001b[0m\u001b[1;33m\u001b[0m\u001b[1;33m\u001b[0m\u001b[0m\n\u001b[0m\u001b[0;32m     33\u001b[0m \u001b[1;33m\u001b[0m\u001b[0m\n\u001b[0;32m     34\u001b[0m         \u001b[1;32mif\u001b[0m \u001b[1;33m(\u001b[0m\u001b[0msum\u001b[0m\u001b[1;33m(\u001b[0m\u001b[1;36m1\u001b[0m \u001b[1;32mfor\u001b[0m \u001b[0ma\u001b[0m \u001b[1;32min\u001b[0m \u001b[0mself\u001b[0m\u001b[1;33m.\u001b[0m\u001b[0mvars\u001b[0m \u001b[1;32mif\u001b[0m \u001b[0mself\u001b[0m\u001b[1;33m.\u001b[0m\u001b[0mvars\u001b[0m\u001b[1;33m[\u001b[0m\u001b[0ma\u001b[0m\u001b[1;33m]\u001b[0m\u001b[1;33m.\u001b[0m\u001b[0mvalue\u001b[0m \u001b[1;33m==\u001b[0m \u001b[1;32mNone\u001b[0m\u001b[1;33m)\u001b[0m \u001b[1;33m==\u001b[0m \u001b[1;36m1\u001b[0m\u001b[1;33m)\u001b[0m\u001b[1;33m:\u001b[0m\u001b[1;33m\u001b[0m\u001b[1;33m\u001b[0m\u001b[0m\n",
      "\u001b[1;31mValueError\u001b[0m: varname foo is not defined in: C,F"
     ]
    }
   ],
   "source": [
    "# bad variable name - raise an error\n",
    "\n",
    "c.setvar('foo', 0)\n",
    "c"
   ]
  },
  {
   "cell_type": "code",
   "execution_count": 8,
   "metadata": {},
   "outputs": [
    {
     "name": "stdout",
     "output_type": "stream",
     "text": [
      "Calculating F\n",
      "C = 100.0\n",
      "F = 212.0\n"
     ]
    }
   ],
   "source": [
    "c.setvar('C', 100)"
   ]
  },
  {
   "cell_type": "code",
   "execution_count": 9,
   "metadata": {},
   "outputs": [
    {
     "name": "stdout",
     "output_type": "stream",
     "text": [
      "Calculating C\n",
      "C = 100.0\n",
      "F = 212.0\n"
     ]
    }
   ],
   "source": [
    "c = Constraint({'C':9, 'F':-5}, -5*32)\n",
    "c.setvar('F', 212)"
   ]
  },
  {
   "cell_type": "markdown",
   "metadata": {},
   "source": [
    "# more complex example\n",
    "- 5 constraint variables"
   ]
  },
  {
   "cell_type": "code",
   "execution_count": 10,
   "metadata": {},
   "outputs": [
    {
     "data": {
      "text/plain": [
       "{'x0': 0, 'x1': 1, 'x2': 2, 'x3': 3, 'x4': 4}"
      ]
     },
     "execution_count": 10,
     "metadata": {},
     "output_type": "execute_result"
    }
   ],
   "source": [
    "d = {f'x{n}':n for n in range(5)}\n",
    "d"
   ]
  },
  {
   "cell_type": "code",
   "execution_count": 11,
   "metadata": {},
   "outputs": [
    {
     "data": {
      "text/plain": [
       "Constraint(1.0=0.0*x0(=None) + 1.0*x1(=None) + 2.0*x2(=None) + 3.0*x3(=None) + 4.0*x4(=None))"
      ]
     },
     "execution_count": 11,
     "metadata": {},
     "output_type": "execute_result"
    }
   ],
   "source": [
    "c2 = Constraint(d, 1)\n",
    "c2"
   ]
  },
  {
   "cell_type": "code",
   "execution_count": 12,
   "metadata": {},
   "outputs": [
    {
     "data": {
      "text/plain": [
       "Constraint(1.0=0.0*x0(=None) + 1.0*x1(=10.0) + 2.0*x2(=None) + 3.0*x3(=None) + 4.0*x4(=None))"
      ]
     },
     "execution_count": 12,
     "metadata": {},
     "output_type": "execute_result"
    }
   ],
   "source": [
    "c2.setvar('x1', 10)\n",
    "c2"
   ]
  },
  {
   "cell_type": "code",
   "execution_count": 13,
   "metadata": {},
   "outputs": [
    {
     "data": {
      "text/plain": [
       "Constraint(1.0=0.0*x0(=0.0) + 1.0*x1(=10.0) + 2.0*x2(=None) + 3.0*x3(=None) + 4.0*x4(=None))"
      ]
     },
     "execution_count": 13,
     "metadata": {},
     "output_type": "execute_result"
    }
   ],
   "source": [
    "c2.setvar('x0', 0)\n",
    "c2"
   ]
  },
  {
   "cell_type": "code",
   "execution_count": 14,
   "metadata": {},
   "outputs": [
    {
     "data": {
      "text/plain": [
       "Constraint(1.0=0.0*x0(=0.0) + 1.0*x1(=10.0) + 2.0*x2(=20.0) + 3.0*x3(=None) + 4.0*x4(=None))"
      ]
     },
     "execution_count": 14,
     "metadata": {},
     "output_type": "execute_result"
    }
   ],
   "source": [
    "# x2\n",
    "\n",
    "c2.setvar('x2',20)\n",
    "c2"
   ]
  },
  {
   "cell_type": "code",
   "execution_count": 15,
   "metadata": {},
   "outputs": [
    {
     "name": "stdout",
     "output_type": "stream",
     "text": [
      "Calculating x3\n",
      "x0 = 0.0\n",
      "x1 = 10.0\n",
      "x2 = 20.0\n",
      "x3 = -56.333333333333336\n",
      "x4 = 30.0\n"
     ]
    }
   ],
   "source": [
    "# only two unset vars left, so setting x3 or x4 \n",
    "# will fire the constraints\n",
    "\n",
    "c2.setvar('x4', 30)"
   ]
  },
  {
   "cell_type": "markdown",
   "metadata": {},
   "source": [
    "# Problem 3, 4 & 5 - vending machine\n",
    "- use objects to simulate several vending machines\n",
    "- money is in units of cents"
   ]
  },
  {
   "cell_type": "code",
   "execution_count": 16,
   "metadata": {},
   "outputs": [],
   "source": [
    "# stuff needed \n",
    "\n",
    "from collections import defaultdict\n",
    "from enum import Enum\n",
    "import time\n",
    "\n",
    "class Coin(Enum):\n",
    "    quarter = 25\n",
    "    dime = 10\n",
    "    nickel = 5\n",
    "    penny = 1\n",
    "    \n",
    "class Item(Enum):\n",
    "    coke = 55\n",
    "    pepsi = 74 \n",
    "    chunky = 88\n",
    "    chips = 20"
   ]
  },
  {
   "cell_type": "markdown",
   "metadata": {},
   "source": [
    "# Making change\n",
    "- the customer always pays with a dollar. all items cost less than a dollar, so the vending machine should return the appropriate change in coins. \n",
    "- if the vending machine doesn't have enough coins to make change, the sale can not go thru\n",
    "- the Changer class will compute change, but it does not quite do what we need. the makeChange method returns two things. first a set of coins which may be the exact amount needed. in this case the 2nd return value, 'owe' will be 0. if there are not enough coins in inventory, the largest amount of coins less than what is owed the customer is returned, and the owe return value will be nonzero. \n",
    "- In either case, the inventory of coins held will be decremented. "
   ]
  },
  {
   "cell_type": "code",
   "execution_count": 17,
   "metadata": {},
   "outputs": [],
   "source": [
    "class Changer:\n",
    "    \n",
    "    def __init__(self, inventory):\n",
    "        self.inventory = defaultdict(int)\n",
    "        # put in whatever inventory was specified,\n",
    "        for k,v in inventory.items():\n",
    "            self.inventory[k] = v\n",
    "            \n",
    "    def __repr__(self):\n",
    "        # default printer is pretty useless, so make one that is helpful\n",
    "        # shows the current coin inventory\n",
    "        lst = [f'{coin.name}={ self.inventory[coin] }' for coin in Coin]\n",
    "        return 'Changer<' + ','.join(lst) + '>'\n",
    "\n",
    "    def makeChange(self, price):\n",
    "        \"assume item price is always less than a dollar, and the customer pays with a dollar\"\n",
    "        owe = 100 - price\n",
    "        ans = defaultdict(int)\n",
    "        for coin in Coin:\n",
    "            cnt = owe // coin.value\n",
    "            # can't return coins we don't have\n",
    "            cntr = min(cnt, self.inventory[coin])\n",
    "            ans[coin] = cntr\n",
    "            self.inventory[coin] -= cntr\n",
    "            owe -= cntr * coin.value\n",
    "            if owe == 0:\n",
    "                break\n",
    "\n",
    "        #  (coins returned, amount still owed, if any)\n",
    "        # return a regular dict for readability0\n",
    "        return (dict(ans), owe)"
   ]
  },
  {
   "cell_type": "code",
   "execution_count": 18,
   "metadata": {},
   "outputs": [
    {
     "data": {
      "text/plain": [
       "Changer<quarter=2,dime=3,nickel=10,penny=1>"
      ]
     },
     "execution_count": 18,
     "metadata": {},
     "output_type": "execute_result"
    }
   ],
   "source": [
    "c1 = Changer({Coin.quarter:2,\n",
    "              Coin.dime:3,\n",
    "              Coin.nickel:10,\n",
    "             Coin.penny:1})\n",
    "\n",
    "c1"
   ]
  },
  {
   "cell_type": "code",
   "execution_count": 19,
   "metadata": {},
   "outputs": [
    {
     "data": {
      "text/plain": [
       "({<Coin.quarter: 25>: 2, <Coin.dime: 10>: 2}, 0)"
      ]
     },
     "execution_count": 19,
     "metadata": {},
     "output_type": "execute_result"
    }
   ],
   "source": [
    "# had enough coins to make 70, so owe = 0 \n",
    "\n",
    "c1.makeChange(30)"
   ]
  },
  {
   "cell_type": "code",
   "execution_count": 20,
   "metadata": {},
   "outputs": [
    {
     "data": {
      "text/plain": [
       "Changer<quarter=0,dime=1,nickel=10,penny=1>"
      ]
     },
     "execution_count": 20,
     "metadata": {},
     "output_type": "execute_result"
    }
   ],
   "source": [
    "# inventory is smaller\n",
    "\n",
    "c1"
   ]
  },
  {
   "cell_type": "code",
   "execution_count": 21,
   "metadata": {},
   "outputs": [
    {
     "data": {
      "text/plain": [
       "({<Coin.quarter: 25>: 0,\n",
       "  <Coin.dime: 10>: 1,\n",
       "  <Coin.nickel: 5>: 10,\n",
       "  <Coin.penny: 1>: 1},\n",
       " 29)"
      ]
     },
     "execution_count": 21,
     "metadata": {},
     "output_type": "execute_result"
    }
   ],
   "source": [
    "# don't have 90 in change, so returned 61 in change, and owe = 29\n",
    "\n",
    "c1.makeChange(10)"
   ]
  },
  {
   "cell_type": "code",
   "execution_count": 22,
   "metadata": {},
   "outputs": [
    {
     "data": {
      "text/plain": [
       "Changer<quarter=0,dime=0,nickel=0,penny=0>"
      ]
     },
     "execution_count": 22,
     "metadata": {},
     "output_type": "execute_result"
    }
   ],
   "source": [
    "# inventory smaller\n",
    "\n",
    "c1"
   ]
  },
  {
   "cell_type": "markdown",
   "metadata": {},
   "source": [
    "# the problem\n",
    "- when the vending machine can't return enough change, the sale should be cancelled. but calling Changer.makeChange() modifies the coin inventory in Changer, which is wrong. So Changer has useful functionality, it just isn't quite right for our needs.\n",
    "\n",
    "# the solution\n",
    "- you can not modify the Changer class. instead...\n",
    "\n",
    "# define class Changer2, which inherits from Changer\n",
    "\n",
    "# define Changer2 method makeChangeCarefully(self, price)\n",
    "- if there are enough coins, it returns them, like makeChange\n",
    "- but otherwise, it raises a ValueError, and does NOT change the coin inventory.\n",
    "- makeChangeCarefully() should call makeChange()"
   ]
  },
  {
   "cell_type": "code",
   "execution_count": 23,
   "metadata": {},
   "outputs": [],
   "source": [
    "class Changer2(Changer):\n",
    "    \n",
    "    def makeChangeCarefully(self, price):\n",
    "        stuff = Changer.makeChange(self, price)\n",
    "        owe = stuff[1]\n",
    "        change = stuff[0]\n",
    "        if owe == 0:\n",
    "            return change\n",
    "        else:\n",
    "            for i in change:\n",
    "                self.inventory[i] += change[i]\n",
    "            raise ValueError('Not enough change in stock: ' + str(dict(self.inventory)))"
   ]
  },
  {
   "cell_type": "code",
   "execution_count": 24,
   "metadata": {},
   "outputs": [
    {
     "data": {
      "text/plain": [
       "Changer<quarter=2,dime=3,nickel=10,penny=1>"
      ]
     },
     "execution_count": 24,
     "metadata": {},
     "output_type": "execute_result"
    }
   ],
   "source": [
    "c2 = Changer2({Coin.quarter:2,\n",
    "              Coin.dime:3,\n",
    "              Coin.nickel:10,\n",
    "             Coin.penny:1})\n",
    "\n",
    "c2"
   ]
  },
  {
   "cell_type": "code",
   "execution_count": 25,
   "metadata": {},
   "outputs": [
    {
     "data": {
      "text/plain": [
       "{<Coin.quarter: 25>: 2, <Coin.dime: 10>: 2}"
      ]
     },
     "execution_count": 25,
     "metadata": {},
     "output_type": "execute_result"
    }
   ],
   "source": [
    "# had enough coins to make 70\n",
    "\n",
    "c2.makeChangeCarefully(30)"
   ]
  },
  {
   "cell_type": "code",
   "execution_count": 26,
   "metadata": {},
   "outputs": [
    {
     "data": {
      "text/plain": [
       "Changer<quarter=0,dime=1,nickel=10,penny=1>"
      ]
     },
     "execution_count": 26,
     "metadata": {},
     "output_type": "execute_result"
    }
   ],
   "source": [
    "# inventory is smaller\n",
    "\n",
    "c2"
   ]
  },
  {
   "cell_type": "code",
   "execution_count": 27,
   "metadata": {},
   "outputs": [
    {
     "ename": "ValueError",
     "evalue": "Not enough change in stock: {<Coin.quarter: 25>: 0, <Coin.dime: 10>: 1, <Coin.nickel: 5>: 10, <Coin.penny: 1>: 1}",
     "output_type": "error",
     "traceback": [
      "\u001b[1;31m---------------------------------------------------------------------------\u001b[0m",
      "\u001b[1;31mValueError\u001b[0m                                Traceback (most recent call last)",
      "\u001b[1;32m<ipython-input-27-9c87e1b6bd49>\u001b[0m in \u001b[0;36m<module>\u001b[1;34m\u001b[0m\n\u001b[0;32m      2\u001b[0m \u001b[1;31m# inventory must not be decremented\u001b[0m\u001b[1;33m\u001b[0m\u001b[1;33m\u001b[0m\u001b[1;33m\u001b[0m\u001b[0m\n\u001b[0;32m      3\u001b[0m \u001b[1;33m\u001b[0m\u001b[0m\n\u001b[1;32m----> 4\u001b[1;33m \u001b[0mc2\u001b[0m\u001b[1;33m.\u001b[0m\u001b[0mmakeChangeCarefully\u001b[0m\u001b[1;33m(\u001b[0m\u001b[1;36m10\u001b[0m\u001b[1;33m)\u001b[0m\u001b[1;33m\u001b[0m\u001b[1;33m\u001b[0m\u001b[0m\n\u001b[0m",
      "\u001b[1;32m<ipython-input-23-aef8e8e6bd8a>\u001b[0m in \u001b[0;36mmakeChangeCarefully\u001b[1;34m(self, price)\u001b[0m\n\u001b[0;32m     10\u001b[0m             \u001b[1;32mfor\u001b[0m \u001b[0mi\u001b[0m \u001b[1;32min\u001b[0m \u001b[0mchange\u001b[0m\u001b[1;33m:\u001b[0m\u001b[1;33m\u001b[0m\u001b[1;33m\u001b[0m\u001b[0m\n\u001b[0;32m     11\u001b[0m                 \u001b[0mself\u001b[0m\u001b[1;33m.\u001b[0m\u001b[0minventory\u001b[0m\u001b[1;33m[\u001b[0m\u001b[0mi\u001b[0m\u001b[1;33m]\u001b[0m \u001b[1;33m+=\u001b[0m \u001b[0mchange\u001b[0m\u001b[1;33m[\u001b[0m\u001b[0mi\u001b[0m\u001b[1;33m]\u001b[0m\u001b[1;33m\u001b[0m\u001b[1;33m\u001b[0m\u001b[0m\n\u001b[1;32m---> 12\u001b[1;33m             \u001b[1;32mraise\u001b[0m \u001b[0mValueError\u001b[0m\u001b[1;33m(\u001b[0m\u001b[1;34m'Not enough change in stock: '\u001b[0m \u001b[1;33m+\u001b[0m \u001b[0mstr\u001b[0m\u001b[1;33m(\u001b[0m\u001b[0mdict\u001b[0m\u001b[1;33m(\u001b[0m\u001b[0mself\u001b[0m\u001b[1;33m.\u001b[0m\u001b[0minventory\u001b[0m\u001b[1;33m)\u001b[0m\u001b[1;33m)\u001b[0m\u001b[1;33m)\u001b[0m\u001b[1;33m\u001b[0m\u001b[1;33m\u001b[0m\u001b[0m\n\u001b[0m",
      "\u001b[1;31mValueError\u001b[0m: Not enough change in stock: {<Coin.quarter: 25>: 0, <Coin.dime: 10>: 1, <Coin.nickel: 5>: 10, <Coin.penny: 1>: 1}"
     ]
    }
   ],
   "source": [
    "# don't have 90 in change, so raise ValueError\n",
    "# inventory must not be decremented\n",
    "\n",
    "c2.makeChangeCarefully(10)"
   ]
  },
  {
   "cell_type": "code",
   "execution_count": 28,
   "metadata": {},
   "outputs": [
    {
     "data": {
      "text/plain": [
       "Changer<quarter=0,dime=1,nickel=10,penny=1>"
      ]
     },
     "execution_count": 28,
     "metadata": {},
     "output_type": "execute_result"
    }
   ],
   "source": [
    "# Inventory didn't change\n",
    "\n",
    "c2"
   ]
  },
  {
   "cell_type": "markdown",
   "metadata": {},
   "source": [
    "# define class Venditem - represents a type of item for sale\n",
    "- has two object/instance variables\n",
    "    - name, quantity\n",
    "- define four methods\n",
    "    - `method __init__` loads data into the object/instance variables\n",
    "        - def `__init__`(self, name, quantity):\n",
    "    - `method __repr__`(self)\n",
    "        - controls how venditem prints\n",
    "        - see examples below\n",
    "    - method sale(self)\n",
    "        - decrement the quantity "
   ]
  },
  {
   "cell_type": "code",
   "execution_count": 29,
   "metadata": {},
   "outputs": [],
   "source": [
    "class Venditem():\n",
    "    \n",
    "    def __init__(self, name, quantity):\n",
    "        self.name = name\n",
    "        self.quantity = quantity\n",
    "        \n",
    "    def __repr__(self):\n",
    "        return 'Venditem(name=' + self.name + ', quantity=' + str(self.quantity) + ')'  \n",
    "    \n",
    "    def sale(self):\n",
    "        self.quantity -=1"
   ]
  },
  {
   "cell_type": "code",
   "execution_count": 30,
   "metadata": {},
   "outputs": [
    {
     "data": {
      "text/plain": [
       "(Venditem(name=coke, quantity=3), Venditem(name=pepsi, quantity=1))"
      ]
     },
     "execution_count": 30,
     "metadata": {},
     "output_type": "execute_result"
    }
   ],
   "source": [
    "# __repr__ method shows object status\n",
    "\n",
    "vi  =  Venditem('coke', 3)\n",
    "vi2 = Venditem('pepsi', 1)\n",
    "\n",
    "vi, vi2"
   ]
  },
  {
   "cell_type": "code",
   "execution_count": 31,
   "metadata": {},
   "outputs": [
    {
     "data": {
      "text/plain": [
       "Venditem(name=coke, quantity=2)"
      ]
     },
     "execution_count": 31,
     "metadata": {},
     "output_type": "execute_result"
    }
   ],
   "source": [
    "# sale method decrements quantity instance variable\n",
    "\n",
    "vi.sale()\n",
    "vi"
   ]
  },
  {
   "cell_type": "markdown",
   "metadata": {},
   "source": [
    "# class Vendmachine \n",
    "- Vendmachine has two object/instance variables\n",
    "    - 'cash' - the amount of money the machine has collected from item sales\n",
    "    - 'items' - a dictionary, where keys are the name of an item, and the values are the Venditem object\n",
    "- define 'buy' method on Vendmachine\n",
    "    - buy(self, name)\n",
    "        - 'name' is 'coke', 'pepsi', etc\n",
    "        - customer always pays with a dollar\n",
    "        - there are several cases, depending item and coin inventory. each case should be logged, using provided 'log' method.\n",
    "        - cases where sale fails\n",
    "            - customer asks for an item not carried\n",
    "            - customer asks for an item whose quantity is 0 - out of stock\n",
    "            - machine can't return sufficient change. Changer2 will throw a ValueError - it must be caught in a try\n",
    "            - everything ok, sell the item, decrement item quantity and change inventory(Changer2 will handle this). \n",
    "        - 'buy' return value\n",
    "            - if sale completes - the change due \n",
    "            - if sail fails - None\n",
    "        - when a sale goes thru, a Sale object should be created, and appended to the sales list.\n",
    "        - see examples below "
   ]
  },
  {
   "cell_type": "code",
   "execution_count": 32,
   "metadata": {},
   "outputs": [],
   "source": [
    "class Sale:\n",
    "    \"One created for each sale\"\n",
    "    def __init__(self, vmname, itemname):\n",
    "        self.vmname = vmname\n",
    "        self.itemname = itemname\n",
    "        self.time = time.strftime('%X %x %Z')\n",
    "        \n",
    "    def __repr__(self):\n",
    "        return f'{self.itemname} sold by {self.vmname}  for {Item[self.itemname].value}'"
   ]
  },
  {
   "cell_type": "code",
   "execution_count": 33,
   "metadata": {},
   "outputs": [
    {
     "data": {
      "text/plain": [
       "coke sold by butler  for 55"
      ]
     },
     "execution_count": 33,
     "metadata": {},
     "output_type": "execute_result"
    }
   ],
   "source": [
    "# output of __repr__ method\n",
    "\n",
    "Sale('butler', 'coke')"
   ]
  },
  {
   "cell_type": "code",
   "execution_count": 34,
   "metadata": {},
   "outputs": [],
   "source": [
    "class Vendmachine:\n",
    "    \n",
    "    def __init__(self, name, coins, stock):\n",
    "        self.name = name\n",
    "        self.changer = Changer2(coins)\n",
    "        self.cash = 0\n",
    "        self.sales = []\n",
    "        # make a dict\n",
    "        self.items = dict()\n",
    "        # this is a very common pattern\n",
    "        # using some kind of name or id for objects,\n",
    "        # make a dict with the ids as keys, objects as values\n",
    "        for i in stock:\n",
    "            self.items[i.name] = i\n",
    "\n",
    "    def time(self):\n",
    "        return time.strftime('%X %x %Z')\n",
    "\n",
    "    def log(self, msg):\n",
    "        # this could go to a file\n",
    "        print(msg)\n",
    "\n",
    "    def status(self):\n",
    "        print(f'cash collected: {self.cash}')\n",
    "        print(self.changer)\n",
    "        for k in self.items:\n",
    "            print(self.items[k])\n",
    "        for s in self.sales:\n",
    "            print(s)\n",
    "            \n",
    "    def buy(self, name):\n",
    "        t = Vendmachine.time(self)\n",
    "        \n",
    "        if name not in self.items:\n",
    "            msg = t + \" don't carry \" + name\n",
    "            return Vendmachine.log(self, msg)\n",
    "        \n",
    "        if self.items[name].quantity == 0:\n",
    "            msg = t + \" \" + name + ' out of stock'\n",
    "            return Vendmachine.log(self, msg)\n",
    "        \n",
    "        try:\n",
    "            change = self.changer.makeChangeCarefully(Item[name].value)\n",
    "            self.items[name].sale()\n",
    "            s = Sale(self.name, name)\n",
    "            self.sales.append(s)\n",
    "            self.cash += Item[name].value\n",
    "            \n",
    "            msg = t + \" \" + name + \" sold by \"+ self.name + \" for \"+ str(Item[name].value) \n",
    "            Vendmachine.log(self, msg)\n",
    "            return change\n",
    "            \n",
    "        except Exception as e:\n",
    "            msg = t + \" can't make change for \" + name\n",
    "            return Vendmachine.log(self, msg)\n",
    "    # add buy method here"
   ]
  },
  {
   "cell_type": "code",
   "execution_count": 35,
   "metadata": {},
   "outputs": [
    {
     "name": "stdout",
     "output_type": "stream",
     "text": [
      "cash collected: 0\n",
      "Changer<quarter=2,dime=3,nickel=10,penny=1>\n",
      "Venditem(name=coke, quantity=3)\n",
      "Venditem(name=pepsi, quantity=1)\n",
      "Venditem(name=chunky, quantity=2)\n",
      "Venditem(name=chips, quantity=1)\n"
     ]
    }
   ],
   "source": [
    "# make stock for sale and load vendmachine\n",
    "\n",
    "vi = Venditem('coke', 3)\n",
    "vi2 = Venditem('pepsi', 1)\n",
    "vi3 = Venditem('chunky', 2)\n",
    "vi4 = Venditem('chips', 1)\n",
    "stock = [vi, vi2, vi3, vi4]\n",
    "\n",
    "coins = {Coin.quarter:2,\n",
    "              Coin.dime:3,\n",
    "              Coin.nickel:10,\n",
    "             Coin.penny:1}\n",
    "\n",
    "\n",
    "butler = Vendmachine(\"butler\", coins, stock)\n",
    "pupin = Vendmachine(\"pupin\", coins, stock)\n",
    "butler.status()"
   ]
  },
  {
   "cell_type": "code",
   "execution_count": 37,
   "metadata": {},
   "outputs": [
    {
     "name": "stdout",
     "output_type": "stream",
     "text": [
      "16:31:11 02/15/20 Eastern Standard Time don't carry mt dew\n"
     ]
    }
   ],
   "source": [
    "butler.buy('mt dew')"
   ]
  },
  {
   "cell_type": "code",
   "execution_count": 38,
   "metadata": {},
   "outputs": [
    {
     "name": "stdout",
     "output_type": "stream",
     "text": [
      "16:31:13 02/15/20 Eastern Standard Time can't make change for chunky\n"
     ]
    }
   ],
   "source": [
    "butler.buy('chunky')"
   ]
  },
  {
   "cell_type": "code",
   "execution_count": 39,
   "metadata": {},
   "outputs": [
    {
     "name": "stdout",
     "output_type": "stream",
     "text": [
      "16:31:16 02/15/20 Eastern Standard Time coke sold by butler for 55\n"
     ]
    },
    {
     "data": {
      "text/plain": [
       "{<Coin.quarter: 25>: 1, <Coin.dime: 10>: 2}"
      ]
     },
     "execution_count": 39,
     "metadata": {},
     "output_type": "execute_result"
    }
   ],
   "source": [
    "butler.buy('coke')"
   ]
  },
  {
   "cell_type": "code",
   "execution_count": 40,
   "metadata": {},
   "outputs": [
    {
     "name": "stdout",
     "output_type": "stream",
     "text": [
      "16:31:22 02/15/20 Eastern Standard Time pepsi sold by butler for 74\n"
     ]
    },
    {
     "data": {
      "text/plain": [
       "{<Coin.quarter: 25>: 1,\n",
       " <Coin.dime: 10>: 0,\n",
       " <Coin.nickel: 5>: 0,\n",
       " <Coin.penny: 1>: 1}"
      ]
     },
     "execution_count": 40,
     "metadata": {},
     "output_type": "execute_result"
    }
   ],
   "source": [
    "butler.buy('pepsi')"
   ]
  },
  {
   "cell_type": "code",
   "execution_count": 41,
   "metadata": {},
   "outputs": [
    {
     "name": "stdout",
     "output_type": "stream",
     "text": [
      "16:31:24 02/15/20 Eastern Standard Time pepsi out of stock\n"
     ]
    }
   ],
   "source": [
    "butler.buy('pepsi')"
   ]
  },
  {
   "cell_type": "code",
   "execution_count": 42,
   "metadata": {},
   "outputs": [
    {
     "name": "stdout",
     "output_type": "stream",
     "text": [
      "cash collected: 129\n",
      "Changer<quarter=0,dime=1,nickel=10,penny=0>\n",
      "Venditem(name=coke, quantity=2)\n",
      "Venditem(name=pepsi, quantity=0)\n",
      "Venditem(name=chunky, quantity=2)\n",
      "Venditem(name=chips, quantity=1)\n",
      "coke sold by butler  for 55\n",
      "pepsi sold by butler  for 74\n"
     ]
    }
   ],
   "source": [
    "butler.status()"
   ]
  },
  {
   "cell_type": "code",
   "execution_count": 43,
   "metadata": {},
   "outputs": [
    {
     "name": "stdout",
     "output_type": "stream",
     "text": [
      "16:31:27 02/15/20 Eastern Standard Time pepsi out of stock\n"
     ]
    }
   ],
   "source": [
    "butler.buy('pepsi')"
   ]
  },
  {
   "cell_type": "code",
   "execution_count": 44,
   "metadata": {},
   "outputs": [
    {
     "name": "stdout",
     "output_type": "stream",
     "text": [
      "16:31:28 02/15/20 Eastern Standard Time can't make change for chunky\n"
     ]
    }
   ],
   "source": [
    "butler.buy('chunky')"
   ]
  },
  {
   "cell_type": "code",
   "execution_count": 45,
   "metadata": {},
   "outputs": [
    {
     "name": "stdout",
     "output_type": "stream",
     "text": [
      "cash collected: 129\n",
      "Changer<quarter=0,dime=1,nickel=10,penny=0>\n",
      "Venditem(name=coke, quantity=2)\n",
      "Venditem(name=pepsi, quantity=0)\n",
      "Venditem(name=chunky, quantity=2)\n",
      "Venditem(name=chips, quantity=1)\n",
      "coke sold by butler  for 55\n",
      "pepsi sold by butler  for 74\n"
     ]
    }
   ],
   "source": [
    "butler.status()"
   ]
  },
  {
   "cell_type": "code",
   "execution_count": 46,
   "metadata": {},
   "outputs": [
    {
     "name": "stdout",
     "output_type": "stream",
     "text": [
      "16:31:30 02/15/20 Eastern Standard Time coke sold by pupin for 55\n"
     ]
    },
    {
     "data": {
      "text/plain": [
       "{<Coin.quarter: 25>: 1, <Coin.dime: 10>: 2}"
      ]
     },
     "execution_count": 46,
     "metadata": {},
     "output_type": "execute_result"
    }
   ],
   "source": [
    "pupin.buy('coke')"
   ]
  },
  {
   "cell_type": "code",
   "execution_count": 47,
   "metadata": {},
   "outputs": [
    {
     "name": "stdout",
     "output_type": "stream",
     "text": [
      "16:31:30 02/15/20 Eastern Standard Time chips sold by pupin for 20\n"
     ]
    },
    {
     "data": {
      "text/plain": [
       "{<Coin.quarter: 25>: 1, <Coin.dime: 10>: 1, <Coin.nickel: 5>: 9}"
      ]
     },
     "execution_count": 47,
     "metadata": {},
     "output_type": "execute_result"
    }
   ],
   "source": [
    "pupin.buy('chips')"
   ]
  },
  {
   "cell_type": "code",
   "execution_count": 48,
   "metadata": {},
   "outputs": [
    {
     "name": "stdout",
     "output_type": "stream",
     "text": [
      "cash collected: 75\n",
      "Changer<quarter=0,dime=0,nickel=1,penny=1>\n",
      "Venditem(name=coke, quantity=1)\n",
      "Venditem(name=pepsi, quantity=0)\n",
      "Venditem(name=chunky, quantity=2)\n",
      "Venditem(name=chips, quantity=0)\n",
      "coke sold by pupin  for 55\n",
      "chips sold by pupin  for 20\n"
     ]
    }
   ],
   "source": [
    "pupin.status()"
   ]
  },
  {
   "cell_type": "markdown",
   "metadata": {},
   "source": [
    "# define class Aggregate\n",
    "- takes a list of vending machines\n",
    "- report() method prints a sales summary"
   ]
  },
  {
   "cell_type": "code",
   "execution_count": 49,
   "metadata": {},
   "outputs": [],
   "source": [
    "class Aggregate:\n",
    "    \n",
    "    def __init__(self, lst):\n",
    "        self.lst = lst\n",
    "        \n",
    "    def report(self):\n",
    "        total = 0\n",
    "        for i in range(len(self.lst)):\n",
    "            print( self.lst[i].sales )\n",
    "            total += self.lst[i].cash\n",
    "        \n",
    "        print(\"total cash collected: \" + str(total))\n",
    "        \n",
    "            "
   ]
  },
  {
   "cell_type": "code",
   "execution_count": 50,
   "metadata": {},
   "outputs": [],
   "source": [
    "a = Aggregate([butler, pupin])"
   ]
  },
  {
   "cell_type": "code",
   "execution_count": 51,
   "metadata": {},
   "outputs": [
    {
     "name": "stdout",
     "output_type": "stream",
     "text": [
      "[coke sold by butler  for 55, pepsi sold by butler  for 74]\n",
      "[coke sold by pupin  for 55, chips sold by pupin  for 20]\n",
      "total cash collected: 204\n"
     ]
    }
   ],
   "source": [
    "a.report()"
   ]
  },
  {
   "cell_type": "markdown",
   "metadata": {},
   "source": [
    "# Just for fun...\n"
   ]
  },
  {
   "cell_type": "markdown",
   "metadata": {},
   "source": [
    "# sketchpad(1963)\n",
    "- IMHO, [sketchpad](https://en.wikipedia.org/wiki/Sketchpad) is the greatest CS PhD thesis ever. \n",
    "- among other things, [Ivan Sutherland](https://en.wikipedia.org/wiki/Ivan_Sutherland) invented constraint systems, interactive computer graphics, CAD, object oriented programming, and visual programming\n",
    "- the computer he used had 33K of memory!\n",
    "- if you have a few minutes sometime, watch this short [sketchpad video from summer 1962](https://www.youtube.com/watch?v=495nCzxM9PI). the speaker is [Alan Kay](https://en.wikipedia.org/wiki/Alan_Kay), of Xerox PARC fame"
   ]
  },
  {
   "cell_type": "markdown",
   "metadata": {},
   "source": [
    "# analyze function huh\n",
    "- This is NOT graded - don't spend more than 5 minutes on it\n",
    "- huh's arg takes ints greater than 1\n",
    "- what does huh compute?\n",
    "- how does the computation work?\n",
    "- is huh pythonic?\n",
    "- math module [doc](https://docs.python.org/3/library/math.html)"
   ]
  },
  {
   "cell_type": "code",
   "execution_count": 52,
   "metadata": {},
   "outputs": [
    {
     "data": {
      "text/plain": [
       "(4.3, 3.4)"
      ]
     },
     "execution_count": 52,
     "metadata": {},
     "output_type": "execute_result"
    }
   ],
   "source": [
    "import math\n",
    "\n",
    "math.fabs(4.3), math.fabs(-3.4)"
   ]
  },
  {
   "cell_type": "code",
   "execution_count": 53,
   "metadata": {},
   "outputs": [
    {
     "data": {
      "text/plain": [
       "(3, 0)"
      ]
     },
     "execution_count": 53,
     "metadata": {},
     "output_type": "execute_result"
    }
   ],
   "source": [
    "math.ceil(2.3), math.ceil(0.0)"
   ]
  },
  {
   "cell_type": "code",
   "execution_count": 54,
   "metadata": {},
   "outputs": [],
   "source": [
    "def huh(n):\n",
    "    answer = True\n",
    "    count = 2\n",
    "    while count < n:\n",
    "        answer = [False,True][math.ceil\n",
    "                              (math.fabs(math.sin(n%count)))]\n",
    "        count = [count + 1, n][~answer]\n",
    "    return answer"
   ]
  }
 ],
 "metadata": {
  "anaconda-cloud": {},
  "kernelspec": {
   "display_name": "Python 3",
   "language": "python",
   "name": "python3"
  },
  "language_info": {
   "codemirror_mode": {
    "name": "ipython",
    "version": 3
   },
   "file_extension": ".py",
   "mimetype": "text/x-python",
   "name": "python",
   "nbconvert_exporter": "python",
   "pygments_lexer": "ipython3",
   "version": "3.7.4"
  },
  "name": "_merged"
 },
 "nbformat": 4,
 "nbformat_minor": 1
}
