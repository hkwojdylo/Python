{
 "cells": [
  {
   "cell_type": "markdown",
   "metadata": {},
   "source": [
    "# Python Homework 2"
   ]
  },
  {
   "cell_type": "markdown",
   "metadata": {},
   "source": [
    "# Academic Honesty\n",
    "* The computer science department has strict polices. Check\n",
    "the department [web page](http://www.cs.columbia.edu/education/honesty) for details. \n",
    "- Do not look at anybody else's source code. Do not show anybody\n",
    "your source, or leave your source where somebody could see it.\n",
    "You MUST write your own code.\n",
    "- For this class, feel free to discuss issues with other people, but suggest waiting an hour or two after a discussion, before writing your code.\n",
    "-  Cases of non original source will be refered to the Judical Committee.\n"
   ]
  },
  {
   "cell_type": "markdown",
   "metadata": {},
   "source": [
    "# Notes\n",
    "- the code for each problem is fairly short, so if you are doing something complicated, think again or get some help\n",
    "- code that works is fine - you don't have to submit the most super pythonic super efficient thing"
   ]
  },
  {
   "cell_type": "markdown",
   "metadata": {},
   "source": [
    "# Problem 1a - define function dot(v1, v2)\n",
    "- computes the standard 'dot products' \n",
    "between two lists \n",
    "- example: dot([1,2,3], [4,5,6]) = $$1 * 4 + 2 * 5 + 3 * 6 = 32$$\n",
    "- if one vector is longer than the other, the extra elements are ignored"
   ]
  },
  {
   "cell_type": "code",
   "execution_count": 12,
   "metadata": {},
   "outputs": [],
   "source": [
    "def dot(v1, v2):\n",
    "    dotsum = 0\n",
    "    if(len(v1) < len(v2)):\n",
    "       smaller = len(v1)\n",
    "    else:\n",
    "       smaller = len(v2)\n",
    "       \n",
    "    for e in range(smaller):\n",
    "        mult = v1[e]*v2[e]\n",
    "        dotsum += mult\n",
    "        \n",
    "    return dotsum"
   ]
  },
  {
   "cell_type": "code",
   "execution_count": 13,
   "metadata": {},
   "outputs": [],
   "source": [
    "# test vectors for Problem 1 a,b,c,d\n",
    "\n",
    "tv0 = [1,2,3]\n",
    "tv1 = [4,5,6,7,8,9]"
   ]
  },
  {
   "cell_type": "code",
   "execution_count": 14,
   "metadata": {},
   "outputs": [
    {
     "data": {
      "text/plain": [
       "32"
      ]
     },
     "execution_count": 14,
     "metadata": {},
     "output_type": "execute_result"
    }
   ],
   "source": [
    "# the 7,8,9 elements are ignored \n",
    "\n",
    "dot(tv0, tv1)"
   ]
  },
  {
   "cell_type": "markdown",
   "metadata": {},
   "source": [
    "# Problem 1b - define function shortlong(v0, v1)\n",
    "- puts two vectors in a 'cannonical form' \n",
    "- returns the shorter vector, the shorter vector length, the longer vector, and the longer vector length, in a tuple"
   ]
  },
  {
   "cell_type": "code",
   "execution_count": 21,
   "metadata": {},
   "outputs": [],
   "source": [
    "def shortlong(v0, v1):\n",
    "    if(len(v0) < len(v1)):\n",
    "        smaller = v0\n",
    "        bigger = v1 \n",
    "    else:\n",
    "        smaller = v1\n",
    "        bigger = v0\n",
    "        \n",
    "    return (smaller, len(smaller), bigger, len(bigger))"
   ]
  },
  {
   "cell_type": "code",
   "execution_count": 22,
   "metadata": {},
   "outputs": [
    {
     "data": {
      "text/plain": [
       "([1, 2, 3], 3, [4, 5, 6, 7, 8, 9], 6)"
      ]
     },
     "execution_count": 22,
     "metadata": {},
     "output_type": "execute_result"
    }
   ],
   "source": [
    "shortlong(tv0, tv1)"
   ]
  },
  {
   "cell_type": "code",
   "execution_count": 23,
   "metadata": {},
   "outputs": [
    {
     "data": {
      "text/plain": [
       "([1, 2, 3], 3, [4, 5, 6, 7, 8, 9], 6)"
      ]
     },
     "execution_count": 23,
     "metadata": {},
     "output_type": "execute_result"
    }
   ],
   "source": [
    "shortlong(tv1, tv0)"
   ]
  },
  {
   "cell_type": "markdown",
   "metadata": {},
   "source": [
    "# Problem 1c - define function dotmv(v0, v1, offset)\n",
    "- more flexible version of 'dot'\n",
    "- 'dotmv' takes an extra 'offset' arg, which moves the shorter vector to the right\n",
    "- use 'shortlong' and 'dot'\n",
    "- don't modify the input vectors\n",
    "- dotmv(tv0, tv1, 2) = $$1 * 6 + 2 * 7 + 3 * 8$$"
   ]
  },
  {
   "cell_type": "code",
   "execution_count": 24,
   "metadata": {},
   "outputs": [],
   "source": [
    "def dotmv(v0, v1, offset):\n",
    "    sort = shortlong(v0, v1)\n",
    "    longer = sort[2]\n",
    "    sumdot = dot(sort[0], longer[offset:])\n",
    "    return sumdot"
   ]
  },
  {
   "cell_type": "code",
   "execution_count": 28,
   "metadata": {},
   "outputs": [
    {
     "data": {
      "text/plain": [
       "[32, 38, 44]"
      ]
     },
     "execution_count": 28,
     "metadata": {},
     "output_type": "execute_result"
    }
   ],
   "source": [
    "[dotmv(tv0, tv1, j) for j in range(3)]"
   ]
  },
  {
   "cell_type": "code",
   "execution_count": 29,
   "metadata": {},
   "outputs": [
    {
     "data": {
      "text/plain": [
       "[32, 38, 44]"
      ]
     },
     "execution_count": 29,
     "metadata": {},
     "output_type": "execute_result"
    }
   ],
   "source": [
    "[dotmv(tv1, tv0, j) for j in range(3)]"
   ]
  },
  {
   "cell_type": "markdown",
   "metadata": {},
   "source": [
    "# Problem 1d - define function dotpad(v0, v1, pad)\n",
    "- another version of 'dot'\n",
    "- 'dotpad' takes a pad arg\n",
    "- if one vector is shorter, it is padded on the right with the pad value\n",
    "- use 'shortlong' and 'dot'\n",
    "- don't modify the input vectors\n",
    "- dotpad(tv0, tv1,1) = dot([1,2,3,1,1,1], [4,5,6,7,8,9])"
   ]
  },
  {
   "cell_type": "code",
   "execution_count": 33,
   "metadata": {},
   "outputs": [],
   "source": [
    "def dotpad(v0, v1, pad):\n",
    "    sort = shortlong(v0, v1)\n",
    "    difference = sort[3]-sort[1]\n",
    "    if(difference == 0):\n",
    "        dotsum = dot(v0, v1)\n",
    "    else:\n",
    "        smaller = sort[0]\n",
    "        newv = smaller[:]\n",
    "        for i in range(difference):\n",
    "            newv.append(pad)\n",
    "        dotsum = dot(newv, sort[2])\n",
    "        \n",
    "    return dotsum"
   ]
  },
  {
   "cell_type": "code",
   "execution_count": 37,
   "metadata": {},
   "outputs": [
    {
     "data": {
      "text/plain": [
       "[32, 56, 80]"
      ]
     },
     "execution_count": 37,
     "metadata": {},
     "output_type": "execute_result"
    }
   ],
   "source": [
    "[dotpad(tv0, tv1, j) for j in [0,1,2]]"
   ]
  },
  {
   "cell_type": "code",
   "execution_count": 35,
   "metadata": {},
   "outputs": [
    {
     "data": {
      "text/plain": [
       "[32, 56, 80]"
      ]
     },
     "execution_count": 35,
     "metadata": {},
     "output_type": "execute_result"
    }
   ],
   "source": [
    "[dotpad(tv1, tv0, j) for j in [0,1,2]]"
   ]
  },
  {
   "cell_type": "markdown",
   "metadata": {},
   "source": [
    "# Problem 2 - define function partition(x, n, overlap)\n",
    "- divides a list into segments\n",
    "- x is the input list\n",
    "- n is the length of each segment. if there are not enough list elements to make a final segment of length n, they are discarded\n",
    "- overlap is how many list elements should overlap btw adjacent segments\n",
    "- might want to use 'while' instead of 'for'\n",
    "- very useful function"
   ]
  },
  {
   "cell_type": "code",
   "execution_count": 40,
   "metadata": {},
   "outputs": [],
   "source": [
    "def partition(x,n,overlap):\n",
    "    parts = []\n",
    "    length = len(x)\n",
    "    \n",
    "    while(length >= n):\n",
    "        currentpart = []\n",
    "        for i in range(n):\n",
    "            currentpart.append(x[len(x) - length])\n",
    "            length -= 1\n",
    "        \n",
    "        parts.append(currentpart)\n",
    "        length += overlap\n",
    "        \n",
    "    return parts"
   ]
  },
  {
   "cell_type": "code",
   "execution_count": 41,
   "metadata": {},
   "outputs": [
    {
     "data": {
      "text/plain": [
       "[[0, 1], [2, 3], [4, 5], [6, 7], [8, 9]]"
      ]
     },
     "execution_count": 41,
     "metadata": {},
     "output_type": "execute_result"
    }
   ],
   "source": [
    "partition(list(range(10)), 2, 0)"
   ]
  },
  {
   "cell_type": "code",
   "execution_count": 42,
   "metadata": {},
   "outputs": [
    {
     "data": {
      "text/plain": [
       "[[0, 1, 2], [3, 4, 5], [6, 7, 8]]"
      ]
     },
     "execution_count": 42,
     "metadata": {},
     "output_type": "execute_result"
    }
   ],
   "source": [
    "# only want length 3 partitions, so 9 was discarded\n",
    "\n",
    "partition(list(range(10)), 3, 0)"
   ]
  },
  {
   "cell_type": "code",
   "execution_count": 43,
   "metadata": {},
   "outputs": [
    {
     "data": {
      "text/plain": [
       "[[0, 1], [1, 2], [2, 3], [3, 4], [4, 5], [5, 6], [6, 7], [7, 8], [8, 9]]"
      ]
     },
     "execution_count": 43,
     "metadata": {},
     "output_type": "execute_result"
    }
   ],
   "source": [
    "partition(list(range(10)), 2, 1)"
   ]
  },
  {
   "cell_type": "code",
   "execution_count": 44,
   "metadata": {},
   "outputs": [
    {
     "data": {
      "text/plain": [
       "[[0, 1, 2, 3], [4, 5, 6, 7]]"
      ]
     },
     "execution_count": 44,
     "metadata": {},
     "output_type": "execute_result"
    }
   ],
   "source": [
    "partition(list(range(10)), 4, 0)"
   ]
  },
  {
   "cell_type": "code",
   "execution_count": 45,
   "metadata": {},
   "outputs": [
    {
     "data": {
      "text/plain": [
       "[[0, 1, 2, 3],\n",
       " [1, 2, 3, 4],\n",
       " [2, 3, 4, 5],\n",
       " [3, 4, 5, 6],\n",
       " [4, 5, 6, 7],\n",
       " [5, 6, 7, 8],\n",
       " [6, 7, 8, 9]]"
      ]
     },
     "execution_count": 45,
     "metadata": {},
     "output_type": "execute_result"
    }
   ],
   "source": [
    "partition(list(range(10)), 4, 3)"
   ]
  },
  {
   "cell_type": "markdown",
   "metadata": {},
   "source": [
    "# Problem 3 - define functions rlencode(seq) and rldecode(seq)\n",
    "- run length encoding is a simple scheme for lossless compression\n",
    "- compress a list by making a list of ```[element, count]```\n",
    "items, so runs of repeats take less storage\n",
    "- rlencode compresses a list\n",
    "- rldecode recovers the original list"
   ]
  },
  {
   "cell_type": "code",
   "execution_count": 99,
   "metadata": {},
   "outputs": [],
   "source": [
    "def rlencode(seq):\n",
    "    enc = []\n",
    "    count = 1\n",
    "    for i in range(len(seq)):\n",
    "        if (i == len(seq)-1):\n",
    "            enc.append([seq[i], count])\n",
    "        elif (seq[i] == seq[i+1]):\n",
    "            count +=1\n",
    "        else:\n",
    "            enc.append([seq[i], count])\n",
    "            count = 1\n",
    "            \n",
    "    return enc"
   ]
  },
  {
   "cell_type": "code",
   "execution_count": 100,
   "metadata": {},
   "outputs": [],
   "source": [
    "def rldecode(deq):\n",
    "    dec = []\n",
    "    for i in range(len(deq)):\n",
    "        x1, y1 = deq[i]\n",
    "        for a in range(y1):\n",
    "            dec.append(x1)\n",
    "    return dec"
   ]
  },
  {
   "cell_type": "code",
   "execution_count": 101,
   "metadata": {},
   "outputs": [
    {
     "data": {
      "text/plain": [
       "[[1, 2], [2, 1], [5, 1], [3, 4], [7, 1]]"
      ]
     },
     "execution_count": 101,
     "metadata": {},
     "output_type": "execute_result"
    }
   ],
   "source": [
    "seq = [1,1,2,5,3,3,3,3,7]\n",
    "enc=rlencode(seq)\n",
    "enc"
   ]
  },
  {
   "cell_type": "code",
   "execution_count": 102,
   "metadata": {},
   "outputs": [
    {
     "data": {
      "text/plain": [
       "[1, 1, 2, 5, 3, 3, 3, 3, 7]"
      ]
     },
     "execution_count": 102,
     "metadata": {},
     "output_type": "execute_result"
    }
   ],
   "source": [
    "rldecode(enc)"
   ]
  },
  {
   "cell_type": "code",
   "execution_count": 103,
   "metadata": {},
   "outputs": [
    {
     "data": {
      "text/plain": [
       "True"
      ]
     },
     "execution_count": 103,
     "metadata": {},
     "output_type": "execute_result"
    }
   ],
   "source": [
    "seq == rldecode(enc)"
   ]
  },
  {
   "cell_type": "markdown",
   "metadata": {},
   "source": [
    "# Problem 4 - define function cbt(x)\n",
    "- \"Collate by Type\"\n",
    "- argument: a non-nested list of objects\n",
    "- returns: \n",
    "    - a dictionary, where there is \n",
    "a key for each type found. the value of each\n",
    "key is a list of the objects of that type found.\n",
    "    - if you want to make the dictionary in a slightly more pythonic way, use [defaultdict](https://docs.python.org/3.8/library/collections.html#collections.defaultdict)\n",
    "- prints: \n",
    "  - the number of each type found\n",
    "  - the sum, if any, of the ints, and floats found\n",
    "  - the strings, if any, sorted alphabetically, and concatenated\n",
    "  togther, separated by '|'\n",
    "  - use [f strings](https://docs.python.org/3/tutorial/inputoutput.html?highlight=format%20string#tut-f-strings) for the formatted printing\n"
   ]
  },
  {
   "cell_type": "code",
   "execution_count": 146,
   "metadata": {},
   "outputs": [],
   "source": [
    "def cbt(x):\n",
    "    dict = {}\n",
    "    for i in range(len(x)):\n",
    "        if type(x[i]) in dict:\n",
    "            dict[type(x[i])].append(x[i])\n",
    "        else:\n",
    "            dict[type(x[i])] = [x[i]]\n",
    "    \n",
    "    for key in dict:\n",
    "        print(f'found ' + str(len(dict[key])) + ' of ' +str(key) )\n",
    "        \n",
    "    if type(34) in dict:\n",
    "        s = sum(dict[type(34)])\n",
    "        print(f'sum of ' + str(key) + ' is ' + str(s))\n",
    "        \n",
    "    if type(3.4) in dict:\n",
    "        s = sum(dict[type(3.4)])\n",
    "        print(f'sum of ' + str(key) + ' is ' + str(s))\n",
    "    \n",
    "    if type(\"hello\") in dict:\n",
    "        l = dict[type(\"hello\")]\n",
    "        lsorted = sorted(l)\n",
    "        words = \"\"\n",
    "        for i in range(len(lsorted)):\n",
    "            words += lsorted[i] + '|'\n",
    "        print(f'alpha sorted concat of strings: ' + words[:-1])\n",
    "        \n",
    "    return dict"
   ]
  },
  {
   "cell_type": "code",
   "execution_count": 141,
   "metadata": {},
   "outputs": [
    {
     "name": "stdout",
     "output_type": "stream",
     "text": [
      "found 2 of <class 'type'>\n",
      "found 2 of <class 'int'>\n",
      "sum of <class 'int'> is 39\n"
     ]
    },
    {
     "data": {
      "text/plain": [
       "{type: [float, list], int: [34, 5]}"
      ]
     },
     "execution_count": 141,
     "metadata": {},
     "output_type": "execute_result"
    }
   ],
   "source": [
    "cbt([float, 34, 5, list])"
   ]
  },
  {
   "cell_type": "code",
   "execution_count": 145,
   "metadata": {},
   "outputs": [
    {
     "name": "stdout",
     "output_type": "stream",
     "text": [
      "found 4 of <class 'int'>\n",
      "found 2 of <class 'float'>\n",
      "found 4 of <class 'str'>\n",
      "found 2 of <class 'builtin_function_or_method'>\n",
      "sum of <class 'builtin_function_or_method'> is 1049673\n",
      "sum of <class 'builtin_function_or_method'> is 5.48\n",
      "alpha sorted concat of strings: butler|science|shapiro|unicode\n"
     ]
    },
    {
     "data": {
      "text/plain": [
       "{int: [23, 1048576, 1031, 43],\n",
       " float: [3.14, 2.34],\n",
       " str: ['shapiro', 'science', 'butler', 'unicode'],\n",
       " builtin_function_or_method: [<function sorted(iterable, /, *, key=None, reverse=False)>,\n",
       "  <function len(obj, /)>]}"
      ]
     },
     "execution_count": 145,
     "metadata": {},
     "output_type": "execute_result"
    }
   ],
   "source": [
    "x = [23,2**20, 3.14,'shapiro', 2**10+7, sorted,2.34, \n",
    "     'science', len, 43, 'butler', 'unicode']\n",
    "cbt(x)"
   ]
  },
  {
   "cell_type": "markdown",
   "metadata": {},
   "source": [
    "# Problem 5 - Convert DNA to Amino Acids\n",
    "- dna is a string of DNA bases 'ACGT'\n",
    "- each successive 3 bases in DNA defines an amino acid\n",
    "- convert the dna_amino string to a dict called 'aa'\n",
    "- scroll down in [this page](https://docs.python.org/3/library/stdtypes.html#text-sequence-type-str) to read the doc for str.split()\n",
    "- can use partition function from problem 2 for pythonic purposes\n"
   ]
  },
  {
   "cell_type": "code",
   "execution_count": 25,
   "metadata": {},
   "outputs": [],
   "source": [
    "dna_amino='''\n",
    "TTT F      CTT L      ATT I      GTT V\n",
    "TTC F      CTC L      ATC I      GTC V\n",
    "TTA L      CTA L      ATA I      GTA V\n",
    "TTG L      CTG L      ATG M      GTG V\n",
    "TCT S      CCT P      ACT T      GCT A\n",
    "TCC S      CCC P      ACC T      GCC A\n",
    "TCA S      CCA P      ACA T      GCA A\n",
    "TCG S      CCG P      ACG T      GCG A\n",
    "TAT Y      CAT H      AAT N      GAT D\n",
    "TAC Y      CAC H      AAC N      GAC D\n",
    "CAA Q      AAA K      GAA E\n",
    "CAG Q      AAG K      GAG E\n",
    "TGT C      CGT R      AGT S      GGT G\n",
    "TGC C      CGC R      AGC S      GGC G\n",
    "CGA R      AGA R      GGA G\n",
    "TGG W      CGG R      AGG R      GGG G\n",
    "'''\n",
    "\n",
    "amino = dna_amino.split()\n",
    "\n",
    "aa = {}\n",
    "for i in range(0,len(amino)-1,2):\n",
    "    aa[amino[i]] = amino[i+1]"
   ]
  },
  {
   "cell_type": "code",
   "execution_count": 26,
   "metadata": {},
   "outputs": [
    {
     "data": {
      "text/plain": [
       "('W', 'R', 'P', 61)"
      ]
     },
     "execution_count": 26,
     "metadata": {},
     "output_type": "execute_result"
    }
   ],
   "source": [
    "aa['TGG'], aa['CGG'], aa['CCA'], len(aa)"
   ]
  },
  {
   "cell_type": "markdown",
   "metadata": {},
   "source": [
    "# define function dnaToAminoAcids(dna)\n",
    "- convert the dna to a string of amino acids\n",
    "- use aa dict"
   ]
  },
  {
   "cell_type": "code",
   "execution_count": 45,
   "metadata": {},
   "outputs": [],
   "source": [
    "def dnaToAminoAcids(dna):\n",
    "    d = [dna[i:i+3] for i in range(0, len(dna), 3)]\n",
    "    acids = \"\"\n",
    "    for i in range(len(d)):\n",
    "        acids += aa[d[i]]\n",
    "    \n",
    "    return acids"
   ]
  },
  {
   "cell_type": "code",
   "execution_count": 46,
   "metadata": {},
   "outputs": [
    {
     "data": {
      "text/plain": [
       "60"
      ]
     },
     "execution_count": 46,
     "metadata": {},
     "output_type": "execute_result"
    }
   ],
   "source": [
    "dna='TGCGGCCCTTACCCATATGTCTCTTACTGTCGCTTTCCGGGTGAATCCTATCCCATTCTA'\n",
    "len(dna)"
   ]
  },
  {
   "cell_type": "code",
   "execution_count": 47,
   "metadata": {},
   "outputs": [
    {
     "data": {
      "text/plain": [
       "('CGPYPYVSYCRFPGESYPIL', 20)"
      ]
     },
     "execution_count": 47,
     "metadata": {},
     "output_type": "execute_result"
    }
   ],
   "source": [
    "acids=dnaToAminoAcids(dna)\n",
    "acids, len(acids)"
   ]
  },
  {
   "cell_type": "markdown",
   "metadata": {},
   "source": [
    "# Just for fun...\n",
    "- the problem below is NOT graded\n",
    "- don't spend more than 10 minutes on it\n",
    "- interesting recursion problem...\n",
    "\n",
    "# define function change(amount, count)\n",
    "- given coins of 1,5,10,25 value, can you choose count number of coins that add up to amount?\n",
    "- duplicate coin values are allowed\n",
    "- note that when there is a solution, not all coin types are necessarily used. so, in general, you have to try 4 different ways to subdivide the problem each time..."
   ]
  },
  {
   "cell_type": "code",
   "execution_count": 12,
   "metadata": {},
   "outputs": [
    {
     "name": "stdout",
     "output_type": "stream",
     "text": [
      "0 []\n",
      "1 []\n",
      "2 []\n",
      "3 [1, 1, 1]\n",
      "4 []\n",
      "5 []\n",
      "6 []\n",
      "7 [5, 1, 1]\n",
      "8 []\n",
      "9 []\n",
      "10 []\n",
      "11 [5, 5, 1]\n",
      "12 [10, 1, 1]\n",
      "13 []\n",
      "14 []\n",
      "15 [5, 5, 5]\n",
      "16 [10, 5, 1]\n",
      "17 []\n",
      "18 []\n",
      "19 []\n"
     ]
    }
   ],
   "source": [
    "# 3 coins\n",
    "\n",
    "for j in range(20):\n",
    "    print(j, change(j, 3))\n",
    "    \n",
    "    "
   ]
  },
  {
   "cell_type": "code",
   "execution_count": 7,
   "metadata": {},
   "outputs": [
    {
     "name": "stdout",
     "output_type": "stream",
     "text": [
      "0 []\n",
      "1 []\n",
      "2 []\n",
      "3 []\n",
      "4 []\n",
      "5 [1, 1, 1, 1, 1]\n",
      "6 []\n",
      "7 []\n",
      "8 []\n",
      "9 [5, 1, 1, 1, 1]\n",
      "10 []\n",
      "11 []\n",
      "12 []\n",
      "13 [5, 5, 1, 1, 1]\n",
      "14 [10, 1, 1, 1, 1]\n",
      "15 []\n",
      "16 []\n",
      "17 [5, 5, 5, 1, 1]\n",
      "18 [10, 5, 1, 1, 1]\n",
      "19 []\n"
     ]
    }
   ],
   "source": [
    "# 5 coins\n",
    "\n",
    "for j in range(20):\n",
    "    print(j, change(j, 5))"
   ]
  }
 ],
 "metadata": {
  "kernelspec": {
   "display_name": "Python 3",
   "language": "python",
   "name": "python3"
  },
  "language_info": {
   "codemirror_mode": {
    "name": "ipython",
    "version": 3
   },
   "file_extension": ".py",
   "mimetype": "text/x-python",
   "name": "python",
   "nbconvert_exporter": "python",
   "pygments_lexer": "ipython3",
   "version": "3.7.4"
  }
 },
 "nbformat": 4,
 "nbformat_minor": 2
}
