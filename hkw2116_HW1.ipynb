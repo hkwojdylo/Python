{
 "cells": [
  {
   "cell_type": "markdown",
   "metadata": {},
   "source": [
    "# Homework 1\n",
    "- This homework is a \"warm up\" - it is NOT graded, but you must submit it\n",
    "- The goals are:\n",
    "    - get anaconda installed and jupyter running \n",
    "    - get comfortable interacting with the notebook\n",
    "    - try writing some simple functions\n",
    "- The jupyter notebook file you upload to Courseworks2 must be named 'YourUNI.ipynb' - just rename this notebook using 'File/Rename', and add cells with your work in them\n",
    "\n",
    "- If you having trouble getting setup, ask for help on piazza\n",
    "- Submit your notebook on Courseworks2 by 5:50pm Wed Sept 11"
   ]
  },
  {
   "cell_type": "markdown",
   "metadata": {},
   "source": [
    "# Tasks\n",
    "- be sure to evaluate the cell below this one to confirm your installation completed correctly\n",
    "- learn how to navigate cells, enter python expressions, and evaluate them\n",
    "- Look at the problems below\n",
    "    - Try doing some or all of them in the notebook\n",
    "    - If you can't do them, do not worry. Just give them some thought"
   ]
  },
  {
   "cell_type": "code",
   "execution_count": 93,
   "metadata": {
    "scrolled": true
   },
   "outputs": [
    {
     "data": {
      "text/plain": [
       "'3.7.4 (default, Aug  9 2019, 18:34:13) [MSC v.1915 64 bit (AMD64)]'"
      ]
     },
     "execution_count": 93,
     "metadata": {},
     "output_type": "execute_result"
    }
   ],
   "source": [
    "# a line that starts with '#' is a comment, and ignored by python\n",
    "\n",
    "# the output of this cell should start with \"3.7\"\n",
    "\n",
    "import sys\n",
    "\n",
    "sys.version"
   ]
  },
  {
   "cell_type": "markdown",
   "metadata": {},
   "source": [
    "# Survey (double click the question to insert your answer)"
   ]
  },
  {
   "cell_type": "markdown",
   "metadata": {},
   "source": [
    "- What is your current field of study?\n",
    "    - Computer Science - Mathematics\n"
   ]
  },
  {
   "cell_type": "markdown",
   "metadata": {},
   "source": [
    "- What programming language(s) do you know? \n",
    "    - Java, C, C++, little bit of SQL"
   ]
  },
  {
   "cell_type": "markdown",
   "metadata": {},
   "source": [
    "- Any idea what you might use Python for? \n",
    "    - Interviews and resume. I want to work as a software engineer after school, so having as many languages as possible in my toolbox is a good idea.\n",
    "\n",
    "\n",
    "\n"
   ]
  },
  {
   "cell_type": "markdown",
   "metadata": {},
   "source": [
    "# Hints"
   ]
  },
  {
   "cell_type": "code",
   "execution_count": 94,
   "metadata": {},
   "outputs": [
    {
     "data": {
      "text/plain": [
       "(2.0, 3.141592653589793, 1.0, 0.7071067811865476)"
      ]
     },
     "execution_count": 94,
     "metadata": {},
     "output_type": "execute_result"
    }
   ],
   "source": [
    "# math module has trig functions, value of pi \n",
    "# be sure to evalutate this cell, so math module\n",
    "# is imported\n",
    "\n",
    "import math\n",
    "\n",
    "math.sqrt(4), math.pi, math.sin(math.pi/2), math.cos(math.pi/4)"
   ]
  },
  {
   "cell_type": "code",
   "execution_count": 95,
   "metadata": {},
   "outputs": [
    {
     "data": {
      "text/plain": [
       "9"
      ]
     },
     "execution_count": 95,
     "metadata": {},
     "output_type": "execute_result"
    }
   ],
   "source": [
    "# function definition\n",
    "\n",
    "def foo(a, b, c):\n",
    "    return a+b-c\n",
    "\n",
    "foo(10,2,3)"
   ]
  },
  {
   "cell_type": "code",
   "execution_count": 96,
   "metadata": {},
   "outputs": [
    {
     "data": {
      "text/plain": [
       "(4, 4)"
      ]
     },
     "execution_count": 96,
     "metadata": {},
     "output_type": "execute_result"
    }
   ],
   "source": [
    "# abs value function\n",
    "\n",
    "abs(4), abs(-4)"
   ]
  },
  {
   "cell_type": "code",
   "execution_count": 97,
   "metadata": {},
   "outputs": [],
   "source": [
    "# represent a two dimensional point as a list [x,y]\n",
    "\n",
    "pt = [3,4]\n",
    "\n",
    "# pt (me seeing how print works)"
   ]
  },
  {
   "cell_type": "code",
   "execution_count": 98,
   "metadata": {},
   "outputs": [
    {
     "data": {
      "text/plain": [
       "(3, 4)"
      ]
     },
     "execution_count": 98,
     "metadata": {},
     "output_type": "execute_result"
    }
   ],
   "source": [
    "# to get the x,y out of a list point, could do...\n",
    "\n",
    "xcord = pt[0]\n",
    "ycord = pt[1]\n",
    "\n",
    "xcord, ycord"
   ]
  },
  {
   "cell_type": "code",
   "execution_count": 99,
   "metadata": {},
   "outputs": [
    {
     "data": {
      "text/plain": [
       "(3, 4)"
      ]
     },
     "execution_count": 99,
     "metadata": {},
     "output_type": "execute_result"
    }
   ],
   "source": [
    "# ...but much nicer is \"destructuring\"\n",
    "# also known as \"multiple value assignment\"\n",
    "\n",
    "xcord, ycord = pt\n",
    "\n",
    "xcord, ycord"
   ]
  },
  {
   "cell_type": "code",
   "execution_count": 100,
   "metadata": {},
   "outputs": [
    {
     "name": "stdout",
     "output_type": "stream",
     "text": [
      "1 2\n",
      "3 4\n"
     ]
    }
   ],
   "source": [
    "# can also destructure in a loop\n",
    "\n",
    "for x,y in [[1,2], [3,4]]:\n",
    "    print(x,y)"
   ]
  },
  {
   "cell_type": "code",
   "execution_count": 101,
   "metadata": {},
   "outputs": [
    {
     "name": "stdout",
     "output_type": "stream",
     "text": [
      "there\n"
     ]
    }
   ],
   "source": [
    "# if statement - True/False predicate followed by \n",
    "# then and else clauses\n",
    "\n",
    "if 3 == 6:\n",
    "    print('here')\n",
    "else:\n",
    "    print('there')"
   ]
  },
  {
   "cell_type": "code",
   "execution_count": 102,
   "metadata": {},
   "outputs": [
    {
     "name": "stdout",
     "output_type": "stream",
     "text": [
      "here\n"
     ]
    }
   ],
   "source": [
    "if 3 < 6:\n",
    "    print('here')\n",
    "else:\n",
    "    print('there')"
   ]
  },
  {
   "cell_type": "code",
   "execution_count": 103,
   "metadata": {},
   "outputs": [
    {
     "data": {
      "text/plain": [
       "False"
      ]
     },
     "execution_count": 103,
     "metadata": {},
     "output_type": "execute_result"
    }
   ],
   "source": [
    "# way to check for an empty list\n",
    "\n",
    "lst = [3,5]\n",
    "\n",
    "lst == [] "
   ]
  },
  {
   "cell_type": "code",
   "execution_count": 104,
   "metadata": {},
   "outputs": [
    {
     "data": {
      "text/plain": [
       "True"
      ]
     },
     "execution_count": 104,
     "metadata": {},
     "output_type": "execute_result"
    }
   ],
   "source": [
    "lst.pop()\n",
    "lst.pop()\n",
    "\n",
    "lst == []"
   ]
  },
  {
   "cell_type": "code",
   "execution_count": 105,
   "metadata": {},
   "outputs": [
    {
     "name": "stdout",
     "output_type": "stream",
     "text": [
      "hi\n"
     ]
    },
    {
     "data": {
      "text/plain": [
       "34"
      ]
     },
     "execution_count": 105,
     "metadata": {},
     "output_type": "execute_result"
    }
   ],
   "source": [
    "# return exits a function immediately\n",
    "\n",
    "def foo():\n",
    "    print('hi')\n",
    "    return 34\n",
    "    print('there')\n",
    "    return 99\n",
    "\n",
    "foo()"
   ]
  },
  {
   "cell_type": "markdown",
   "metadata": {},
   "source": [
    "# Problems"
   ]
  },
  {
   "cell_type": "markdown",
   "metadata": {},
   "source": [
    "# define function circlePoints(n)\n",
    "- represent a 2D point as a list - [x,y]\n",
    "- origin is [0,0]\n",
    "- generates a list of n evenly spaced points on a circle of radius=1 centered at the origin\n",
    "- points can be viewed as the vertexes of a regular n side polygon(n-gon)\n",
    "- note that due to floating point round off errors, zero is often represented by very small numbers, like 1e-16\n",
    "- insert a python cell below this one, and place the definition of circlePoints in the cell"
   ]
  },
  {
   "cell_type": "code",
   "execution_count": 106,
   "metadata": {},
   "outputs": [],
   "source": [
    "def circlePoints(n):\n",
    "    theta = math.radians(360/n)\n",
    "    points = []\n",
    "    x = 0\n",
    "    for i in range(n):\n",
    "        points.append([math.cos(x), math.sin(x)])\n",
    "        x += theta\n",
    "    return points"
   ]
  },
  {
   "cell_type": "code",
   "execution_count": 107,
   "metadata": {},
   "outputs": [
    {
     "data": {
      "text/plain": [
       "[[1.0, 0.0],\n",
       " [6.123233995736766e-17, 1.0],\n",
       " [-1.0, 1.2246467991473532e-16],\n",
       " [-1.8369701987210297e-16, -1.0]]"
      ]
     },
     "execution_count": 107,
     "metadata": {},
     "output_type": "execute_result"
    }
   ],
   "source": [
    "# pts are really [[1,0],[0,1],[-1,0],[0,-1]]\n",
    "\n",
    "circlePoints(4)"
   ]
  },
  {
   "cell_type": "code",
   "execution_count": 108,
   "metadata": {},
   "outputs": [
    {
     "data": {
      "text/plain": [
       "(0.0, 3.4)"
      ]
     },
     "execution_count": 108,
     "metadata": {},
     "output_type": "execute_result"
    }
   ],
   "source": [
    "# define 'chop' function to change tiny floats to 0.0\n",
    "\n",
    "def chop(x):\n",
    "    if abs(x) < 1e-14:\n",
    "        return 0.0\n",
    "    else:\n",
    "        return x\n",
    "\n",
    "chop(1.2246467991473532e-16), chop(3.4)"
   ]
  },
  {
   "cell_type": "code",
   "execution_count": 109,
   "metadata": {},
   "outputs": [
    {
     "data": {
      "text/plain": [
       "[[1.0, 0.0],\n",
       " [0.5000000000000001, 0.8660254037844386],\n",
       " [-0.4999999999999998, 0.8660254037844387],\n",
       " [-1.0, 1.2246467991473532e-16],\n",
       " [-0.5000000000000004, -0.8660254037844385],\n",
       " [0.49999999999999933, -0.866025403784439]]"
      ]
     },
     "execution_count": 109,
     "metadata": {},
     "output_type": "execute_result"
    }
   ],
   "source": [
    "circlePoints(6)"
   ]
  },
  {
   "cell_type": "code",
   "execution_count": 110,
   "metadata": {},
   "outputs": [
    {
     "data": {
      "text/plain": [
       "[[1.0, 0.0], [0.0, 1.0], [-1.0, 0.0], [0.0, -1.0]]"
      ]
     },
     "execution_count": 110,
     "metadata": {},
     "output_type": "execute_result"
    }
   ],
   "source": [
    "# clean up output \n",
    "\n",
    "[[chop(x), chop(y)] for x,y in circlePoints(4)]"
   ]
  },
  {
   "cell_type": "code",
   "execution_count": 111,
   "metadata": {},
   "outputs": [
    {
     "data": {
      "text/plain": [
       "[[1.0, 0.0],\n",
       " [0.5000000000000001, 0.8660254037844386],\n",
       " [-0.4999999999999998, 0.8660254037844387],\n",
       " [-1.0, 0.0],\n",
       " [-0.5000000000000004, -0.8660254037844385],\n",
       " [0.49999999999999933, -0.866025403784439]]"
      ]
     },
     "execution_count": 111,
     "metadata": {},
     "output_type": "execute_result"
    }
   ],
   "source": [
    "[[chop(x), chop(y)] for x,y in circlePoints(6)]"
   ]
  },
  {
   "cell_type": "markdown",
   "metadata": {},
   "source": [
    "# define function euclid(pt1, pt2)\n",
    "- computes the straight line distance between two points\n"
   ]
  },
  {
   "cell_type": "code",
   "execution_count": 112,
   "metadata": {},
   "outputs": [],
   "source": [
    "def euclid(pt1, pt2):\n",
    "    x1, y1 = pt1\n",
    "    x2, y2 = pt2\n",
    "    return math.sqrt(math.pow(x1-x2, 2) + math.pow(y1-y2, 2))"
   ]
  },
  {
   "cell_type": "markdown",
   "metadata": {},
   "source": [
    "# define function manhattan(pt1, pt2)\n",
    "- computes the 'manhattan' distance between two points\n",
    "- can only move horizontally or vertically "
   ]
  },
  {
   "cell_type": "code",
   "execution_count": 113,
   "metadata": {},
   "outputs": [],
   "source": [
    "def manhattan(pt1, pt2):\n",
    "    x1, y1 = pt1\n",
    "    x2, y2 = pt2\n",
    "    return (math.fabs(x1-x2) + math.fabs(y1-y2))"
   ]
  },
  {
   "cell_type": "code",
   "execution_count": 114,
   "metadata": {},
   "outputs": [
    {
     "data": {
      "text/plain": [
       "5.0"
      ]
     },
     "execution_count": 114,
     "metadata": {},
     "output_type": "execute_result"
    }
   ],
   "source": [
    "pt1 = [0,0]\n",
    "pt2 = [3,4]\n",
    "\n",
    "euclid(pt1, pt2)"
   ]
  },
  {
   "cell_type": "code",
   "execution_count": 115,
   "metadata": {},
   "outputs": [
    {
     "data": {
      "text/plain": [
       "7.0"
      ]
     },
     "execution_count": 115,
     "metadata": {},
     "output_type": "execute_result"
    }
   ],
   "source": [
    "manhattan(pt1, pt2)"
   ]
  },
  {
   "cell_type": "markdown",
   "metadata": {},
   "source": [
    "# define function perimeter\n",
    "- computes the perimeter length of an n-gon\n",
    "- use euclid"
   ]
  },
  {
   "cell_type": "code",
   "execution_count": 116,
   "metadata": {},
   "outputs": [],
   "source": [
    "def perimeter(n):\n",
    "    points = circlePoints(n)\n",
    "    length = euclid(points[1], [1.0, 0.0])\n",
    "    perimeter = n*length\n",
    "    return perimeter"
   ]
  },
  {
   "cell_type": "markdown",
   "metadata": {},
   "source": [
    "# define function area \n",
    "- computes the area of n-gon\n",
    "    - can compute area by dividing n-gon into triangles\n",
    "    - can find the area of each triangle by getting the base and height\n",
    "- use euclid"
   ]
  },
  {
   "cell_type": "code",
   "execution_count": 117,
   "metadata": {},
   "outputs": [],
   "source": [
    "def area(n):\n",
    "    points = circlePoints(n)\n",
    "    base = euclid(points[1], points[0])\n",
    "    b = math.sqrt(1-math.pow(base/2, 2))\n",
    "    return n*.5*b*base\n"
   ]
  },
  {
   "cell_type": "code",
   "execution_count": 118,
   "metadata": {},
   "outputs": [
    {
     "data": {
      "text/plain": [
       "(5.196152422706632, 1.2990381056766582)"
      ]
     },
     "execution_count": 118,
     "metadata": {},
     "output_type": "execute_result"
    }
   ],
   "source": [
    "perimeter(3), area(3)"
   ]
  },
  {
   "cell_type": "markdown",
   "metadata": {},
   "source": [
    "# Approximate the area and circumference of a circle with n-gons\n",
    "- as n increases, the n-gon becomes more like a circle\n",
    "- show that as n increases, area and perimeter values approach circle values"
   ]
  },
  {
   "cell_type": "code",
   "execution_count": 119,
   "metadata": {},
   "outputs": [
    {
     "data": {
      "text/plain": [
       "3.141592653589793"
      ]
     },
     "execution_count": 119,
     "metadata": {},
     "output_type": "execute_result"
    }
   ],
   "source": [
    "# area of unit circle\n",
    "\n",
    "math.pi"
   ]
  },
  {
   "cell_type": "code",
   "execution_count": 120,
   "metadata": {},
   "outputs": [
    {
     "name": "stdout",
     "output_type": "stream",
     "text": [
      "3 1.2990381056766582\n",
      "4 2.0\n",
      "5 2.377641290737884\n",
      "8 2.8284271247461907\n",
      "14 3.037186173822907\n",
      "20 3.0901699437494745\n",
      "30 3.1186753622663903\n",
      "50 3.1333308391076065\n",
      "100 3.1395259764656687\n",
      "1000 3.141571982779475\n",
      "1000000 3.141592653569122\n"
     ]
    }
   ],
   "source": [
    "def testArea():\n",
    "    # see how we do for various n-gons\n",
    "    for n in [3,4,5,8,14,20,30,50,100,1000,1000000]:\n",
    "        print(n, area(n))\n",
    "\n",
    "testArea()"
   ]
  },
  {
   "cell_type": "code",
   "execution_count": 121,
   "metadata": {},
   "outputs": [
    {
     "data": {
      "text/plain": [
       "6.283185307179586"
      ]
     },
     "execution_count": 121,
     "metadata": {},
     "output_type": "execute_result"
    }
   ],
   "source": [
    "# perimeter of unit circle\n",
    "\n",
    "2*math.pi"
   ]
  },
  {
   "cell_type": "code",
   "execution_count": 122,
   "metadata": {
    "scrolled": true
   },
   "outputs": [
    {
     "name": "stdout",
     "output_type": "stream",
     "text": [
      "3 5.196152422706632\n",
      "4 5.65685424949238\n",
      "5 5.877852522924732\n",
      "8 6.122934917841437\n",
      "14 6.230586150776803\n",
      "20 6.2573786016092345\n",
      "30 6.271707796059208\n",
      "50 6.279051952931339\n",
      "100 6.282151815625658\n",
      "1000 6.283174971759125\n",
      "1000000 6.283185307169251\n"
     ]
    }
   ],
   "source": [
    "def testPerimeter():\n",
    "    for n in [3,4,5,8,14,20,30,50,100,1000,1000000]:\n",
    "        print(n, perimeter(n))\n",
    "\n",
    "testPerimeter()"
   ]
  },
  {
   "cell_type": "markdown",
   "metadata": {},
   "source": [
    "# define function inList(data, find)\n",
    "- both args are lists\n",
    "- look for each element of find in data\n",
    "- accumulate a list of True(found)/False(not found)"
   ]
  },
  {
   "cell_type": "code",
   "execution_count": 123,
   "metadata": {},
   "outputs": [],
   "source": [
    "def inList(data, find):\n",
    "    results = []\n",
    "    for i in find:\n",
    "        flag = False\n",
    "        for e in data:\n",
    "            if(i == e):\n",
    "                flag = True\n",
    "        results.append(flag)\n",
    "    return results"
   ]
  },
  {
   "cell_type": "code",
   "execution_count": 124,
   "metadata": {},
   "outputs": [
    {
     "data": {
      "text/plain": [
       "[True, False, True]"
      ]
     },
     "execution_count": 124,
     "metadata": {},
     "output_type": "execute_result"
    }
   ],
   "source": [
    "inList([1,2,4,8,2.3], [2,33,1])"
   ]
  },
  {
   "cell_type": "code",
   "execution_count": 125,
   "metadata": {},
   "outputs": [
    {
     "data": {
      "text/plain": [
       "[True, True, True, False, True]"
      ]
     },
     "execution_count": 125,
     "metadata": {},
     "output_type": "execute_result"
    }
   ],
   "source": [
    "inList(list(range(5)),[1,1,3,7,1])"
   ]
  },
  {
   "cell_type": "markdown",
   "metadata": {},
   "source": [
    "# define function rsum(lst)\n",
    "- use recursion(no 'for loop' allowed) to sum a list of ints"
   ]
  },
  {
   "cell_type": "code",
   "execution_count": 126,
   "metadata": {},
   "outputs": [],
   "source": [
    "def rsum(lst):\n",
    "    if(lst == []):\n",
    "        return 0\n",
    "    \n",
    "    x = lst.pop()\n",
    "    return x + rsum(lst)\n"
   ]
  },
  {
   "cell_type": "code",
   "execution_count": 127,
   "metadata": {},
   "outputs": [
    {
     "data": {
      "text/plain": [
       "17"
      ]
     },
     "execution_count": 127,
     "metadata": {},
     "output_type": "execute_result"
    }
   ],
   "source": [
    "rsum([1,3,6,7])"
   ]
  },
  {
   "cell_type": "code",
   "execution_count": 128,
   "metadata": {},
   "outputs": [
    {
     "data": {
      "text/plain": [
       "27"
      ]
     },
     "execution_count": 128,
     "metadata": {},
     "output_type": "execute_result"
    }
   ],
   "source": [
    "rsum(list(range(2,8)))"
   ]
  },
  {
   "cell_type": "markdown",
   "metadata": {},
   "source": [
    "# Just for fun...\n",
    "- which integers are singletons? can you figure out how to use Python to find them?\n",
    "-  hint - they are all in the interval (-1000,1000)\n",
    "- don't spend more than 5 minutes on this!"
   ]
  }
 ],
 "metadata": {
  "anaconda-cloud": {},
  "kernelspec": {
   "display_name": "Python 3",
   "language": "python",
   "name": "python3"
  },
  "language_info": {
   "codemirror_mode": {
    "name": "ipython",
    "version": 3
   },
   "file_extension": ".py",
   "mimetype": "text/x-python",
   "name": "python",
   "nbconvert_exporter": "python",
   "pygments_lexer": "ipython3",
   "version": "3.7.4"
  }
 },
 "nbformat": 4,
 "nbformat_minor": 1
}
